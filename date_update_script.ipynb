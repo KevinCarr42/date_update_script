{
 "cells": [
  {
   "cell_type": "code",
   "execution_count": 1,
   "metadata": {},
   "outputs": [],
   "source": [
    "import pandas as pd\n",
    "pd.set_option('display.max_columns', 50)\n",
    "pd.set_option('display.max_rows', 500)"
   ]
  },
  {
   "cell_type": "markdown",
   "metadata": {},
   "source": [
    "# Process Outline\n",
    "* create a number of identical starting databases \n",
    "  * (based on current prodonprem and slightly out of date data)\n",
    "* for database in databases:\n",
    "  * switch database\n",
    "  * download tables\n",
    "  * run migration\n",
    "  * download tables\n",
    "  * run script\n",
    "  * download tables\n"
   ]
  },
  {
   "cell_type": "markdown",
   "metadata": {},
   "source": [
    "### Attempt 1: dmapps_test\n",
    "* mostly worked - FY error (eg, Apr 22 is FY 23)\n",
    "* 5 requests that changed status after saving - investigate more deeply"
   ]
  },
  {
   "cell_type": "code",
   "execution_count": 2,
   "metadata": {},
   "outputs": [],
   "source": [
    "requests = 'dmapps_test_csas2_csasrequest.csv'\n",
    "tor = 'dmapps_test_csas2_termsofreference.csv'\n",
    "\n",
    "r1_before = pd.read_csv('before/'+requests)\n",
    "r1_after = pd.read_csv('after/'+requests)\n",
    "r1_after_save = pd.read_csv('after_saving/'+requests)\n",
    "tor1_before = pd.read_csv('before/'+tor)\n",
    "tor1_after = pd.read_csv('after/'+tor)\n",
    "tor1_after_save = pd.read_csv('after_saving/'+tor)"
   ]
  },
  {
   "cell_type": "markdown",
   "metadata": {},
   "source": [
    "##### tor"
   ]
  },
  {
   "cell_type": "code",
   "execution_count": 3,
   "metadata": {},
   "outputs": [
    {
     "name": "stdout",
     "output_type": "stream",
     "text": [
      "(207, 4)\n"
     ]
    },
    {
     "data": {
      "text/html": [
       "<div>\n",
       "<style scoped>\n",
       "    .dataframe tbody tr th:only-of-type {\n",
       "        vertical-align: middle;\n",
       "    }\n",
       "\n",
       "    .dataframe tbody tr th {\n",
       "        vertical-align: top;\n",
       "    }\n",
       "\n",
       "    .dataframe thead tr th {\n",
       "        text-align: left;\n",
       "    }\n",
       "</style>\n",
       "<table border=\"1\" class=\"dataframe\">\n",
       "  <thead>\n",
       "    <tr>\n",
       "      <th></th>\n",
       "      <th colspan=\"2\" halign=\"left\">updated_at</th>\n",
       "      <th colspan=\"2\" halign=\"left\">submission_date</th>\n",
       "    </tr>\n",
       "    <tr>\n",
       "      <th></th>\n",
       "      <th>self</th>\n",
       "      <th>other</th>\n",
       "      <th>self</th>\n",
       "      <th>other</th>\n",
       "    </tr>\n",
       "  </thead>\n",
       "  <tbody>\n",
       "    <tr>\n",
       "      <th>31</th>\n",
       "      <td>2023-01-27 16:13:03.828064</td>\n",
       "      <td>2024-01-12 13:09:18.020844</td>\n",
       "      <td></td>\n",
       "      <td>2022-04-01 12:00:00</td>\n",
       "    </tr>\n",
       "    <tr>\n",
       "      <th>51</th>\n",
       "      <td>2023-01-27 15:54:22.721896</td>\n",
       "      <td>2024-01-12 13:09:18.024822</td>\n",
       "      <td></td>\n",
       "      <td>2022-04-01 12:00:00</td>\n",
       "    </tr>\n",
       "    <tr>\n",
       "      <th>64</th>\n",
       "      <td>2023-01-27 16:15:46.300804</td>\n",
       "      <td>2024-01-12 13:09:18.029821</td>\n",
       "      <td></td>\n",
       "      <td>2023-04-01 12:00:00</td>\n",
       "    </tr>\n",
       "    <tr>\n",
       "      <th>80</th>\n",
       "      <td>2023-01-27 16:23:19.365783</td>\n",
       "      <td>2024-01-12 13:09:18.035340</td>\n",
       "      <td></td>\n",
       "      <td>2023-04-01 12:00:00</td>\n",
       "    </tr>\n",
       "    <tr>\n",
       "      <th>83</th>\n",
       "      <td>2023-01-27 16:07:14.774777</td>\n",
       "      <td>2024-01-12 13:09:18.040531</td>\n",
       "      <td></td>\n",
       "      <td>2023-04-01 12:00:00</td>\n",
       "    </tr>\n",
       "  </tbody>\n",
       "</table>\n",
       "</div>"
      ],
      "text/plain": [
       "                    updated_at                             submission_date  \\\n",
       "                          self                       other            self   \n",
       "31  2023-01-27 16:13:03.828064  2024-01-12 13:09:18.020844                   \n",
       "51  2023-01-27 15:54:22.721896  2024-01-12 13:09:18.024822                   \n",
       "64  2023-01-27 16:15:46.300804  2024-01-12 13:09:18.029821                   \n",
       "80  2023-01-27 16:23:19.365783  2024-01-12 13:09:18.035340                   \n",
       "83  2023-01-27 16:07:14.774777  2024-01-12 13:09:18.040531                   \n",
       "\n",
       "                         \n",
       "                  other  \n",
       "31  2022-04-01 12:00:00  \n",
       "51  2022-04-01 12:00:00  \n",
       "64  2023-04-01 12:00:00  \n",
       "80  2023-04-01 12:00:00  \n",
       "83  2023-04-01 12:00:00  "
      ]
     },
     "execution_count": 3,
     "metadata": {},
     "output_type": "execute_result"
    }
   ],
   "source": [
    "print(tor1_before.compare(tor1_after).shape)\n",
    "tor1_before.compare(tor1_after).fillna('').head()"
   ]
  },
  {
   "cell_type": "code",
   "execution_count": 4,
   "metadata": {},
   "outputs": [
    {
     "name": "stdout",
     "output_type": "stream",
     "text": [
      "(527, 2)\n"
     ]
    },
    {
     "data": {
      "text/html": [
       "<div>\n",
       "<style scoped>\n",
       "    .dataframe tbody tr th:only-of-type {\n",
       "        vertical-align: middle;\n",
       "    }\n",
       "\n",
       "    .dataframe tbody tr th {\n",
       "        vertical-align: top;\n",
       "    }\n",
       "\n",
       "    .dataframe thead tr th {\n",
       "        text-align: left;\n",
       "    }\n",
       "</style>\n",
       "<table border=\"1\" class=\"dataframe\">\n",
       "  <thead>\n",
       "    <tr>\n",
       "      <th></th>\n",
       "      <th colspan=\"2\" halign=\"left\">updated_at</th>\n",
       "    </tr>\n",
       "    <tr>\n",
       "      <th></th>\n",
       "      <th>self</th>\n",
       "      <th>other</th>\n",
       "    </tr>\n",
       "  </thead>\n",
       "  <tbody>\n",
       "    <tr>\n",
       "      <th>0</th>\n",
       "      <td>2021-12-16 20:24:42.921503</td>\n",
       "      <td>2024-01-12 13:11:18.733992</td>\n",
       "    </tr>\n",
       "    <tr>\n",
       "      <th>1</th>\n",
       "      <td>2021-12-16 20:24:40.716634</td>\n",
       "      <td>2024-01-12 13:11:18.794738</td>\n",
       "    </tr>\n",
       "    <tr>\n",
       "      <th>2</th>\n",
       "      <td>2021-12-16 20:24:41.093677</td>\n",
       "      <td>2024-01-12 13:11:18.868574</td>\n",
       "    </tr>\n",
       "    <tr>\n",
       "      <th>3</th>\n",
       "      <td>2021-12-16 20:24:42.538060</td>\n",
       "      <td>2024-01-12 13:11:18.972617</td>\n",
       "    </tr>\n",
       "    <tr>\n",
       "      <th>4</th>\n",
       "      <td>2021-12-16 20:24:41.847219</td>\n",
       "      <td>2024-01-12 13:11:19.011850</td>\n",
       "    </tr>\n",
       "  </tbody>\n",
       "</table>\n",
       "</div>"
      ],
      "text/plain": [
       "                   updated_at                            \n",
       "                         self                       other\n",
       "0  2021-12-16 20:24:42.921503  2024-01-12 13:11:18.733992\n",
       "1  2021-12-16 20:24:40.716634  2024-01-12 13:11:18.794738\n",
       "2  2021-12-16 20:24:41.093677  2024-01-12 13:11:18.868574\n",
       "3  2021-12-16 20:24:42.538060  2024-01-12 13:11:18.972617\n",
       "4  2021-12-16 20:24:41.847219  2024-01-12 13:11:19.011850"
      ]
     },
     "execution_count": 4,
     "metadata": {},
     "output_type": "execute_result"
    }
   ],
   "source": [
    "print(tor1_after.compare(tor1_after_save).shape)\n",
    "tor1_after.compare(tor1_after_save).fillna('').head()"
   ]
  },
  {
   "cell_type": "code",
   "execution_count": 5,
   "metadata": {},
   "outputs": [
    {
     "data": {
      "text/plain": [
       "(527, 19)"
      ]
     },
     "execution_count": 5,
     "metadata": {},
     "output_type": "execute_result"
    }
   ],
   "source": [
    "tor1_after.shape"
   ]
  },
  {
   "cell_type": "markdown",
   "metadata": {},
   "source": [
    "##### requests"
   ]
  },
  {
   "cell_type": "code",
   "execution_count": 6,
   "metadata": {},
   "outputs": [
    {
     "name": "stdout",
     "output_type": "stream",
     "text": [
      "(187, 4)\n"
     ]
    },
    {
     "data": {
      "text/html": [
       "<div>\n",
       "<style scoped>\n",
       "    .dataframe tbody tr th:only-of-type {\n",
       "        vertical-align: middle;\n",
       "    }\n",
       "\n",
       "    .dataframe tbody tr th {\n",
       "        vertical-align: top;\n",
       "    }\n",
       "\n",
       "    .dataframe thead tr th {\n",
       "        text-align: left;\n",
       "    }\n",
       "</style>\n",
       "<table border=\"1\" class=\"dataframe\">\n",
       "  <thead>\n",
       "    <tr>\n",
       "      <th></th>\n",
       "      <th colspan=\"2\" halign=\"left\">updated_at</th>\n",
       "      <th colspan=\"2\" halign=\"left\">submission_date</th>\n",
       "    </tr>\n",
       "    <tr>\n",
       "      <th></th>\n",
       "      <th>self</th>\n",
       "      <th>other</th>\n",
       "      <th>self</th>\n",
       "      <th>other</th>\n",
       "    </tr>\n",
       "  </thead>\n",
       "  <tbody>\n",
       "    <tr>\n",
       "      <th>68</th>\n",
       "      <td>2022-08-25 22:30:01.944633</td>\n",
       "      <td>2024-01-12 13:09:17.975603</td>\n",
       "      <td></td>\n",
       "      <td>2022-04-01 12:00:00</td>\n",
       "    </tr>\n",
       "    <tr>\n",
       "      <th>69</th>\n",
       "      <td>2022-08-25 22:30:03.580007</td>\n",
       "      <td>2024-01-12 13:09:17.979603</td>\n",
       "      <td></td>\n",
       "      <td>2022-04-01 12:00:00</td>\n",
       "    </tr>\n",
       "    <tr>\n",
       "      <th>74</th>\n",
       "      <td>2022-08-25 22:30:02.953676</td>\n",
       "      <td>2024-01-12 13:09:17.976604</td>\n",
       "      <td></td>\n",
       "      <td>2022-04-01 12:00:00</td>\n",
       "    </tr>\n",
       "    <tr>\n",
       "      <th>75</th>\n",
       "      <td>2022-08-25 22:30:03.379908</td>\n",
       "      <td>2024-01-12 13:09:17.977603</td>\n",
       "      <td></td>\n",
       "      <td>2022-04-01 12:00:00</td>\n",
       "    </tr>\n",
       "    <tr>\n",
       "      <th>104</th>\n",
       "      <td>2023-03-14 17:45:46.225119</td>\n",
       "      <td>2024-01-12 13:09:17.980602</td>\n",
       "      <td></td>\n",
       "      <td>2022-04-01 12:00:00</td>\n",
       "    </tr>\n",
       "  </tbody>\n",
       "</table>\n",
       "</div>"
      ],
      "text/plain": [
       "                     updated_at                             submission_date  \\\n",
       "                           self                       other            self   \n",
       "68   2022-08-25 22:30:01.944633  2024-01-12 13:09:17.975603                   \n",
       "69   2022-08-25 22:30:03.580007  2024-01-12 13:09:17.979603                   \n",
       "74   2022-08-25 22:30:02.953676  2024-01-12 13:09:17.976604                   \n",
       "75   2022-08-25 22:30:03.379908  2024-01-12 13:09:17.977603                   \n",
       "104  2023-03-14 17:45:46.225119  2024-01-12 13:09:17.980602                   \n",
       "\n",
       "                          \n",
       "                   other  \n",
       "68   2022-04-01 12:00:00  \n",
       "69   2022-04-01 12:00:00  \n",
       "74   2022-04-01 12:00:00  \n",
       "75   2022-04-01 12:00:00  \n",
       "104  2022-04-01 12:00:00  "
      ]
     },
     "execution_count": 6,
     "metadata": {},
     "output_type": "execute_result"
    }
   ],
   "source": [
    "print(r1_before.compare(r1_after).shape)\n",
    "r1_before.compare(r1_after).fillna('').head()"
   ]
  },
  {
   "cell_type": "code",
   "execution_count": 7,
   "metadata": {},
   "outputs": [
    {
     "name": "stdout",
     "output_type": "stream",
     "text": [
      "(1198, 6)\n"
     ]
    },
    {
     "data": {
      "text/html": [
       "<div>\n",
       "<style scoped>\n",
       "    .dataframe tbody tr th:only-of-type {\n",
       "        vertical-align: middle;\n",
       "    }\n",
       "\n",
       "    .dataframe tbody tr th {\n",
       "        vertical-align: top;\n",
       "    }\n",
       "\n",
       "    .dataframe thead tr th {\n",
       "        text-align: left;\n",
       "    }\n",
       "</style>\n",
       "<table border=\"1\" class=\"dataframe\">\n",
       "  <thead>\n",
       "    <tr>\n",
       "      <th></th>\n",
       "      <th colspan=\"2\" halign=\"left\">status</th>\n",
       "      <th colspan=\"2\" halign=\"left\">fiscal_year_id</th>\n",
       "    </tr>\n",
       "    <tr>\n",
       "      <th></th>\n",
       "      <th>self</th>\n",
       "      <th>other</th>\n",
       "      <th>self</th>\n",
       "      <th>other</th>\n",
       "    </tr>\n",
       "  </thead>\n",
       "  <tbody>\n",
       "    <tr>\n",
       "      <th>10</th>\n",
       "      <td>70.0</td>\n",
       "      <td>41.0</td>\n",
       "      <td></td>\n",
       "      <td></td>\n",
       "    </tr>\n",
       "    <tr>\n",
       "      <th>68</th>\n",
       "      <td></td>\n",
       "      <td></td>\n",
       "      <td>2022.0</td>\n",
       "      <td>2023.0</td>\n",
       "    </tr>\n",
       "    <tr>\n",
       "      <th>69</th>\n",
       "      <td></td>\n",
       "      <td></td>\n",
       "      <td>2022.0</td>\n",
       "      <td>2023.0</td>\n",
       "    </tr>\n",
       "    <tr>\n",
       "      <th>74</th>\n",
       "      <td></td>\n",
       "      <td></td>\n",
       "      <td>2022.0</td>\n",
       "      <td>2023.0</td>\n",
       "    </tr>\n",
       "    <tr>\n",
       "      <th>75</th>\n",
       "      <td></td>\n",
       "      <td></td>\n",
       "      <td>2022.0</td>\n",
       "      <td>2023.0</td>\n",
       "    </tr>\n",
       "    <tr>\n",
       "      <th>104</th>\n",
       "      <td></td>\n",
       "      <td></td>\n",
       "      <td>2022.0</td>\n",
       "      <td>2023.0</td>\n",
       "    </tr>\n",
       "    <tr>\n",
       "      <th>214</th>\n",
       "      <td>70.0</td>\n",
       "      <td>41.0</td>\n",
       "      <td></td>\n",
       "      <td></td>\n",
       "    </tr>\n",
       "    <tr>\n",
       "      <th>256</th>\n",
       "      <td>70.0</td>\n",
       "      <td>41.0</td>\n",
       "      <td></td>\n",
       "      <td></td>\n",
       "    </tr>\n",
       "    <tr>\n",
       "      <th>766</th>\n",
       "      <td>41.0</td>\n",
       "      <td>70.0</td>\n",
       "      <td></td>\n",
       "      <td></td>\n",
       "    </tr>\n",
       "    <tr>\n",
       "      <th>791</th>\n",
       "      <td>20.0</td>\n",
       "      <td>30.0</td>\n",
       "      <td></td>\n",
       "      <td></td>\n",
       "    </tr>\n",
       "    <tr>\n",
       "      <th>1010</th>\n",
       "      <td></td>\n",
       "      <td></td>\n",
       "      <td>2010.0</td>\n",
       "      <td>2011.0</td>\n",
       "    </tr>\n",
       "    <tr>\n",
       "      <th>1011</th>\n",
       "      <td></td>\n",
       "      <td></td>\n",
       "      <td>2017.0</td>\n",
       "      <td>2018.0</td>\n",
       "    </tr>\n",
       "    <tr>\n",
       "      <th>1012</th>\n",
       "      <td></td>\n",
       "      <td></td>\n",
       "      <td>2015.0</td>\n",
       "      <td>2016.0</td>\n",
       "    </tr>\n",
       "    <tr>\n",
       "      <th>1013</th>\n",
       "      <td></td>\n",
       "      <td></td>\n",
       "      <td>2018.0</td>\n",
       "      <td>2019.0</td>\n",
       "    </tr>\n",
       "    <tr>\n",
       "      <th>1014</th>\n",
       "      <td></td>\n",
       "      <td></td>\n",
       "      <td>2019.0</td>\n",
       "      <td>2020.0</td>\n",
       "    </tr>\n",
       "  </tbody>\n",
       "</table>\n",
       "</div>"
      ],
      "text/plain": [
       "     status       fiscal_year_id        \n",
       "       self other           self   other\n",
       "10     70.0  41.0                       \n",
       "68                        2022.0  2023.0\n",
       "69                        2022.0  2023.0\n",
       "74                        2022.0  2023.0\n",
       "75                        2022.0  2023.0\n",
       "104                       2022.0  2023.0\n",
       "214    70.0  41.0                       \n",
       "256    70.0  41.0                       \n",
       "766    41.0  70.0                       \n",
       "791    20.0  30.0                       \n",
       "1010                      2010.0  2011.0\n",
       "1011                      2017.0  2018.0\n",
       "1012                      2015.0  2016.0\n",
       "1013                      2018.0  2019.0\n",
       "1014                      2019.0  2020.0"
      ]
     },
     "execution_count": 7,
     "metadata": {},
     "output_type": "execute_result"
    }
   ],
   "source": [
    "print(r1_after.compare(r1_after_save).shape)\n",
    "r1_after.drop('updated_at', axis=1).compare(r1_after_save.drop('updated_at', axis=1)).fillna('').head(15)"
   ]
  },
  {
   "cell_type": "code",
   "execution_count": 8,
   "metadata": {},
   "outputs": [
    {
     "data": {
      "text/html": [
       "<div>\n",
       "<style scoped>\n",
       "    .dataframe tbody tr th:only-of-type {\n",
       "        vertical-align: middle;\n",
       "    }\n",
       "\n",
       "    .dataframe tbody tr th {\n",
       "        vertical-align: top;\n",
       "    }\n",
       "\n",
       "    .dataframe thead tr th {\n",
       "        text-align: left;\n",
       "    }\n",
       "</style>\n",
       "<table border=\"1\" class=\"dataframe\">\n",
       "  <thead>\n",
       "    <tr>\n",
       "      <th></th>\n",
       "      <th colspan=\"2\" halign=\"left\">status</th>\n",
       "      <th colspan=\"2\" halign=\"left\">fiscal_year_id</th>\n",
       "    </tr>\n",
       "    <tr>\n",
       "      <th></th>\n",
       "      <th>self</th>\n",
       "      <th>other</th>\n",
       "      <th>self</th>\n",
       "      <th>other</th>\n",
       "    </tr>\n",
       "  </thead>\n",
       "  <tbody>\n",
       "    <tr>\n",
       "      <th>1187</th>\n",
       "      <td></td>\n",
       "      <td></td>\n",
       "      <td>2022.0</td>\n",
       "      <td>2023.0</td>\n",
       "    </tr>\n",
       "    <tr>\n",
       "      <th>1188</th>\n",
       "      <td></td>\n",
       "      <td></td>\n",
       "      <td>2021.0</td>\n",
       "      <td>2022.0</td>\n",
       "    </tr>\n",
       "    <tr>\n",
       "      <th>1189</th>\n",
       "      <td></td>\n",
       "      <td></td>\n",
       "      <td>2022.0</td>\n",
       "      <td>2023.0</td>\n",
       "    </tr>\n",
       "    <tr>\n",
       "      <th>1190</th>\n",
       "      <td></td>\n",
       "      <td></td>\n",
       "      <td>2022.0</td>\n",
       "      <td>2023.0</td>\n",
       "    </tr>\n",
       "    <tr>\n",
       "      <th>1191</th>\n",
       "      <td></td>\n",
       "      <td></td>\n",
       "      <td>2022.0</td>\n",
       "      <td>2023.0</td>\n",
       "    </tr>\n",
       "  </tbody>\n",
       "</table>\n",
       "</div>"
      ],
      "text/plain": [
       "     status       fiscal_year_id        \n",
       "       self other           self   other\n",
       "1187                      2022.0  2023.0\n",
       "1188                      2021.0  2022.0\n",
       "1189                      2022.0  2023.0\n",
       "1190                      2022.0  2023.0\n",
       "1191                      2022.0  2023.0"
      ]
     },
     "execution_count": 8,
     "metadata": {},
     "output_type": "execute_result"
    }
   ],
   "source": [
    "r1_after.drop('updated_at', axis=1).compare(r1_after_save.drop('updated_at', axis=1)).fillna('').tail()"
   ]
  },
  {
   "cell_type": "code",
   "execution_count": 9,
   "metadata": {},
   "outputs": [
    {
     "data": {
      "text/plain": [
       "id                                                                     1349\n",
       "uuid                                       f9149f19e3d24241b2daa4f5fc88a103\n",
       "created_at                                       2023-05-08 12:56:53.217275\n",
       "updated_at                                       2024-01-12 13:11:45.896215\n",
       "language                                                                  1\n",
       "title                     Biofouling as a Vector for Aquatic Invasive Sp...\n",
       "is_multiregional                                                        0.0\n",
       "multiregional_text                                                      NaN\n",
       "issue                                                                   NaN\n",
       "assistance_text                                                         NaN\n",
       "rationale                                                               NaN\n",
       "risk_text                                                               NaN\n",
       "advice_needed_by                                        2022-01-10 16:00:00\n",
       "rationale_for_timeline                                                  NaN\n",
       "has_funding                                                               0\n",
       "funding_text                                                            NaN\n",
       "prioritization                                                          NaN\n",
       "prioritization_text                                                     NaN\n",
       "status                                                                   70\n",
       "submission_date                                         2022-04-01 12:00:00\n",
       "old_id                                                                  NaN\n",
       "client_id                                                              1142\n",
       "created_by_id                                                        1142.0\n",
       "section_id                                                              213\n",
       "updated_by_id                                                           NaN\n",
       "translated_title                                                        NaN\n",
       "ref_number                                                              NaN\n",
       "advice_fiscal_year_id                                                  2022\n",
       "fiscal_year_id                                                         2023\n",
       "office_id                                                                 7\n",
       "Name: 1191, dtype: object"
      ]
     },
     "execution_count": 9,
     "metadata": {},
     "output_type": "execute_result"
    }
   ],
   "source": [
    "r1_after_save.iloc[1191]"
   ]
  },
  {
   "cell_type": "code",
   "execution_count": 10,
   "metadata": {},
   "outputs": [
    {
     "name": "stdout",
     "output_type": "stream",
     "text": [
      "(187, 2)\n"
     ]
    }
   ],
   "source": [
    "# OK, it looks like FY 2023 is Apr 22 to Mar 23, so the migration needs to be adjusted...\n",
    "# let's confirm that this is the correct assumption by counting errors (should be 187)\n",
    "\n",
    "print(r1_after.drop([\n",
    "    'updated_at', 'status'\n",
    "], axis=1).compare(r1_after_save.drop([\n",
    "    'updated_at', 'status'\n",
    "], axis=1)).shape)"
   ]
  },
  {
   "cell_type": "code",
   "execution_count": 11,
   "metadata": {},
   "outputs": [
    {
     "data": {
      "text/html": [
       "<div>\n",
       "<style scoped>\n",
       "    .dataframe tbody tr th:only-of-type {\n",
       "        vertical-align: middle;\n",
       "    }\n",
       "\n",
       "    .dataframe tbody tr th {\n",
       "        vertical-align: top;\n",
       "    }\n",
       "\n",
       "    .dataframe thead tr th {\n",
       "        text-align: left;\n",
       "    }\n",
       "</style>\n",
       "<table border=\"1\" class=\"dataframe\">\n",
       "  <thead>\n",
       "    <tr>\n",
       "      <th></th>\n",
       "      <th colspan=\"2\" halign=\"left\">status</th>\n",
       "    </tr>\n",
       "    <tr>\n",
       "      <th></th>\n",
       "      <th>self</th>\n",
       "      <th>other</th>\n",
       "    </tr>\n",
       "  </thead>\n",
       "  <tbody>\n",
       "    <tr>\n",
       "      <th>10</th>\n",
       "      <td>70.0</td>\n",
       "      <td>41.0</td>\n",
       "    </tr>\n",
       "    <tr>\n",
       "      <th>214</th>\n",
       "      <td>70.0</td>\n",
       "      <td>41.0</td>\n",
       "    </tr>\n",
       "    <tr>\n",
       "      <th>256</th>\n",
       "      <td>70.0</td>\n",
       "      <td>41.0</td>\n",
       "    </tr>\n",
       "    <tr>\n",
       "      <th>766</th>\n",
       "      <td>41.0</td>\n",
       "      <td>70.0</td>\n",
       "    </tr>\n",
       "    <tr>\n",
       "      <th>791</th>\n",
       "      <td>20.0</td>\n",
       "      <td>30.0</td>\n",
       "    </tr>\n",
       "  </tbody>\n",
       "</table>\n",
       "</div>"
      ],
      "text/plain": [
       "    status      \n",
       "      self other\n",
       "10    70.0  41.0\n",
       "214   70.0  41.0\n",
       "256   70.0  41.0\n",
       "766   41.0  70.0\n",
       "791   20.0  30.0"
      ]
     },
     "metadata": {},
     "output_type": "display_data"
    },
    {
     "data": {
      "text/html": [
       "<div>\n",
       "<style scoped>\n",
       "    .dataframe tbody tr th:only-of-type {\n",
       "        vertical-align: middle;\n",
       "    }\n",
       "\n",
       "    .dataframe tbody tr th {\n",
       "        vertical-align: top;\n",
       "    }\n",
       "\n",
       "    .dataframe thead th {\n",
       "        text-align: right;\n",
       "    }\n",
       "</style>\n",
       "<table border=\"1\" class=\"dataframe\">\n",
       "  <thead>\n",
       "    <tr style=\"text-align: right;\">\n",
       "      <th></th>\n",
       "      <th>id</th>\n",
       "      <th>uuid</th>\n",
       "      <th>created_at</th>\n",
       "      <th>updated_at</th>\n",
       "      <th>language</th>\n",
       "      <th>title</th>\n",
       "      <th>is_multiregional</th>\n",
       "      <th>multiregional_text</th>\n",
       "      <th>issue</th>\n",
       "      <th>assistance_text</th>\n",
       "      <th>rationale</th>\n",
       "      <th>risk_text</th>\n",
       "      <th>advice_needed_by</th>\n",
       "      <th>rationale_for_timeline</th>\n",
       "      <th>has_funding</th>\n",
       "      <th>funding_text</th>\n",
       "      <th>prioritization</th>\n",
       "      <th>prioritization_text</th>\n",
       "      <th>status</th>\n",
       "      <th>submission_date</th>\n",
       "      <th>old_id</th>\n",
       "      <th>client_id</th>\n",
       "      <th>created_by_id</th>\n",
       "      <th>section_id</th>\n",
       "      <th>updated_by_id</th>\n",
       "      <th>translated_title</th>\n",
       "      <th>ref_number</th>\n",
       "      <th>advice_fiscal_year_id</th>\n",
       "      <th>fiscal_year_id</th>\n",
       "      <th>office_id</th>\n",
       "    </tr>\n",
       "  </thead>\n",
       "  <tbody>\n",
       "    <tr>\n",
       "      <th>10</th>\n",
       "      <td>12</td>\n",
       "      <td>d5f44c1425824bf0beaddbd00a0adcad</td>\n",
       "      <td>2021-04-28 10:37:53.728292</td>\n",
       "      <td>2022-08-25 22:30:25.223383</td>\n",
       "      <td>1</td>\n",
       "      <td>Science Response - Striped bass SGSL</td>\n",
       "      <td>0.0</td>\n",
       "      <td>NaN</td>\n",
       "      <td>1. Stock status update\\r\\n1. Establishing an u...</td>\n",
       "      <td>NaN</td>\n",
       "      <td>The results of this science advice will suppor...</td>\n",
       "      <td>If no science response is provided, SDO will n...</td>\n",
       "      <td>2018-11-01 03:00:00</td>\n",
       "      <td>The science advice will prepare DFO for the de...</td>\n",
       "      <td>0</td>\n",
       "      <td>NaN</td>\n",
       "      <td>NaN</td>\n",
       "      <td>NaN</td>\n",
       "      <td>70</td>\n",
       "      <td>2021-04-28 10:42:19.913898</td>\n",
       "      <td>NaN</td>\n",
       "      <td>1802</td>\n",
       "      <td>50.0</td>\n",
       "      <td>117</td>\n",
       "      <td>50.0</td>\n",
       "      <td>NaN</td>\n",
       "      <td>GLF-2018-2019-TAB07</td>\n",
       "      <td>2021</td>\n",
       "      <td>2022</td>\n",
       "      <td>1</td>\n",
       "    </tr>\n",
       "    <tr>\n",
       "      <th>214</th>\n",
       "      <td>252</td>\n",
       "      <td>c1a9258bc16f40cfaa47d08dcf2107ce</td>\n",
       "      <td>2021-07-12 16:15:36.340549</td>\n",
       "      <td>2023-04-06 16:09:37.455726</td>\n",
       "      <td>1</td>\n",
       "      <td>2018SAL07 Fraser Sockeye Post Season Run Size ...</td>\n",
       "      <td>0.0</td>\n",
       "      <td>Fisheries Management, Science, Pacific Salmon ...</td>\n",
       "      <td>Review of and documentation of DFO methods cur...</td>\n",
       "      <td>Jamie Scroggie, Jennifer Nener, David Patterson</td>\n",
       "      <td>The results will impact DFO programs in the Pa...</td>\n",
       "      <td>If the review is not completed there will be s...</td>\n",
       "      <td>2022-12-31 04:00:00</td>\n",
       "      <td>Data is required for annual abundance forecast...</td>\n",
       "      <td>0</td>\n",
       "      <td>NaN</td>\n",
       "      <td>3.0</td>\n",
       "      <td>NaN</td>\n",
       "      <td>70</td>\n",
       "      <td>2021-12-16 12:00:00</td>\n",
       "      <td>NaN</td>\n",
       "      <td>1952</td>\n",
       "      <td>1555.0</td>\n",
       "      <td>139</td>\n",
       "      <td>1555.0</td>\n",
       "      <td>NaN</td>\n",
       "      <td>2018SAL07</td>\n",
       "      <td>2023</td>\n",
       "      <td>2022</td>\n",
       "      <td>5</td>\n",
       "    </tr>\n",
       "    <tr>\n",
       "      <th>256</th>\n",
       "      <td>295</td>\n",
       "      <td>802464b095c34ba1ac32bfebd6afc606</td>\n",
       "      <td>2021-07-14 23:44:19.318855</td>\n",
       "      <td>2023-04-06 16:08:27.033001</td>\n",
       "      <td>1</td>\n",
       "      <td>2018SAR12 Recovery Potential Assessment (RPA) ...</td>\n",
       "      <td>0.0</td>\n",
       "      <td>NaN</td>\n",
       "      <td>Using the Guidance for the Completion of Recov...</td>\n",
       "      <td>Paul Grant, Research Scientist</td>\n",
       "      <td>The COSEWIC assessment for Fraser River sockey...</td>\n",
       "      <td>If the RPA is not completed, subsequent compon...</td>\n",
       "      <td>2022-03-31 03:00:00</td>\n",
       "      <td>After the COSEWIC assessment is complete, DFO ...</td>\n",
       "      <td>1</td>\n",
       "      <td>Funds are requested through the annual SARA wo...</td>\n",
       "      <td>1.0</td>\n",
       "      <td>NaN</td>\n",
       "      <td>70</td>\n",
       "      <td>2021-12-16 12:00:00</td>\n",
       "      <td>NaN</td>\n",
       "      <td>1968</td>\n",
       "      <td>1555.0</td>\n",
       "      <td>142</td>\n",
       "      <td>1500.0</td>\n",
       "      <td>NaN</td>\n",
       "      <td>2018SAR12</td>\n",
       "      <td>2022</td>\n",
       "      <td>2022</td>\n",
       "      <td>5</td>\n",
       "    </tr>\n",
       "    <tr>\n",
       "      <th>766</th>\n",
       "      <td>904</td>\n",
       "      <td>a76a8adb681b478eb84c439dc212f378</td>\n",
       "      <td>2022-10-21 11:47:56.786293</td>\n",
       "      <td>2022-12-01 15:46:36.583871</td>\n",
       "      <td>1</td>\n",
       "      <td>Updated Biological Reference Points for Gasper...</td>\n",
       "      <td>1.0</td>\n",
       "      <td>Maritimes - Resource Management - Management o...</td>\n",
       "      <td>FFHPP and Resource Management are seeking DFO ...</td>\n",
       "      <td>FFHPP and Resource Management staff have discu...</td>\n",
       "      <td>Existing reference points for managing the Gas...</td>\n",
       "      <td>If Scientific advice is not provided, then the...</td>\n",
       "      <td>2023-08-31 03:00:00</td>\n",
       "      <td>To allow time to complete the analysis, draft ...</td>\n",
       "      <td>0</td>\n",
       "      <td>NaN</td>\n",
       "      <td>1.0</td>\n",
       "      <td>Existing reference points are believed to be i...</td>\n",
       "      <td>41</td>\n",
       "      <td>2022-10-27 13:48:46.212584</td>\n",
       "      <td>NaN</td>\n",
       "      <td>778</td>\n",
       "      <td>778.0</td>\n",
       "      <td>124</td>\n",
       "      <td>778.0</td>\n",
       "      <td>NaN</td>\n",
       "      <td>NaN</td>\n",
       "      <td>2024</td>\n",
       "      <td>2023</td>\n",
       "      <td>2</td>\n",
       "    </tr>\n",
       "    <tr>\n",
       "      <th>791</th>\n",
       "      <td>930</td>\n",
       "      <td>cae2109c01b24a64a538ba5118777e1b</td>\n",
       "      <td>2022-10-25 19:44:26.256159</td>\n",
       "      <td>2022-11-04 15:49:40.098824</td>\n",
       "      <td>1</td>\n",
       "      <td>Assessment of fishery and non-fishery interact...</td>\n",
       "      <td>1.0</td>\n",
       "      <td>The range of the NW Atlantic population of Lea...</td>\n",
       "      <td>In March 2018, a CSAS Regional Science Respons...</td>\n",
       "      <td>We have discussed the feasibility of this requ...</td>\n",
       "      <td>The advice resulting from this request will su...</td>\n",
       "      <td>This science advice would help us meet a commi...</td>\n",
       "      <td>2026-03-31 03:00:00</td>\n",
       "      <td>To synchronize and meet the commitments mentio...</td>\n",
       "      <td>0</td>\n",
       "      <td>Species at Risk Program funds</td>\n",
       "      <td>1.0</td>\n",
       "      <td>Understanding the sources and rates of interac...</td>\n",
       "      <td>20</td>\n",
       "      <td>2022-10-26 17:39:16.478281</td>\n",
       "      <td>NaN</td>\n",
       "      <td>947</td>\n",
       "      <td>947.0</td>\n",
       "      <td>125</td>\n",
       "      <td>947.0</td>\n",
       "      <td>NaN</td>\n",
       "      <td>NaN</td>\n",
       "      <td>2026</td>\n",
       "      <td>2023</td>\n",
       "      <td>2</td>\n",
       "    </tr>\n",
       "  </tbody>\n",
       "</table>\n",
       "</div>"
      ],
      "text/plain": [
       "      id                              uuid                  created_at  \\\n",
       "10    12  d5f44c1425824bf0beaddbd00a0adcad  2021-04-28 10:37:53.728292   \n",
       "214  252  c1a9258bc16f40cfaa47d08dcf2107ce  2021-07-12 16:15:36.340549   \n",
       "256  295  802464b095c34ba1ac32bfebd6afc606  2021-07-14 23:44:19.318855   \n",
       "766  904  a76a8adb681b478eb84c439dc212f378  2022-10-21 11:47:56.786293   \n",
       "791  930  cae2109c01b24a64a538ba5118777e1b  2022-10-25 19:44:26.256159   \n",
       "\n",
       "                     updated_at  language  \\\n",
       "10   2022-08-25 22:30:25.223383         1   \n",
       "214  2023-04-06 16:09:37.455726         1   \n",
       "256  2023-04-06 16:08:27.033001         1   \n",
       "766  2022-12-01 15:46:36.583871         1   \n",
       "791  2022-11-04 15:49:40.098824         1   \n",
       "\n",
       "                                                 title  is_multiregional  \\\n",
       "10                Science Response - Striped bass SGSL               0.0   \n",
       "214  2018SAL07 Fraser Sockeye Post Season Run Size ...               0.0   \n",
       "256  2018SAR12 Recovery Potential Assessment (RPA) ...               0.0   \n",
       "766  Updated Biological Reference Points for Gasper...               1.0   \n",
       "791  Assessment of fishery and non-fishery interact...               1.0   \n",
       "\n",
       "                                    multiregional_text  \\\n",
       "10                                                 NaN   \n",
       "214  Fisheries Management, Science, Pacific Salmon ...   \n",
       "256                                                NaN   \n",
       "766  Maritimes - Resource Management - Management o...   \n",
       "791  The range of the NW Atlantic population of Lea...   \n",
       "\n",
       "                                                 issue  \\\n",
       "10   1. Stock status update\\r\\n1. Establishing an u...   \n",
       "214  Review of and documentation of DFO methods cur...   \n",
       "256  Using the Guidance for the Completion of Recov...   \n",
       "766  FFHPP and Resource Management are seeking DFO ...   \n",
       "791  In March 2018, a CSAS Regional Science Respons...   \n",
       "\n",
       "                                       assistance_text  \\\n",
       "10                                                 NaN   \n",
       "214    Jamie Scroggie, Jennifer Nener, David Patterson   \n",
       "256                     Paul Grant, Research Scientist   \n",
       "766  FFHPP and Resource Management staff have discu...   \n",
       "791  We have discussed the feasibility of this requ...   \n",
       "\n",
       "                                             rationale  \\\n",
       "10   The results of this science advice will suppor...   \n",
       "214  The results will impact DFO programs in the Pa...   \n",
       "256  The COSEWIC assessment for Fraser River sockey...   \n",
       "766  Existing reference points for managing the Gas...   \n",
       "791  The advice resulting from this request will su...   \n",
       "\n",
       "                                             risk_text     advice_needed_by  \\\n",
       "10   If no science response is provided, SDO will n...  2018-11-01 03:00:00   \n",
       "214  If the review is not completed there will be s...  2022-12-31 04:00:00   \n",
       "256  If the RPA is not completed, subsequent compon...  2022-03-31 03:00:00   \n",
       "766  If Scientific advice is not provided, then the...  2023-08-31 03:00:00   \n",
       "791  This science advice would help us meet a commi...  2026-03-31 03:00:00   \n",
       "\n",
       "                                rationale_for_timeline  has_funding  \\\n",
       "10   The science advice will prepare DFO for the de...            0   \n",
       "214  Data is required for annual abundance forecast...            0   \n",
       "256  After the COSEWIC assessment is complete, DFO ...            1   \n",
       "766  To allow time to complete the analysis, draft ...            0   \n",
       "791  To synchronize and meet the commitments mentio...            0   \n",
       "\n",
       "                                          funding_text  prioritization  \\\n",
       "10                                                 NaN             NaN   \n",
       "214                                                NaN             3.0   \n",
       "256  Funds are requested through the annual SARA wo...             1.0   \n",
       "766                                                NaN             1.0   \n",
       "791                      Species at Risk Program funds             1.0   \n",
       "\n",
       "                                   prioritization_text  status  \\\n",
       "10                                                 NaN      70   \n",
       "214                                                NaN      70   \n",
       "256                                                NaN      70   \n",
       "766  Existing reference points are believed to be i...      41   \n",
       "791  Understanding the sources and rates of interac...      20   \n",
       "\n",
       "                submission_date  old_id  client_id  created_by_id  section_id  \\\n",
       "10   2021-04-28 10:42:19.913898     NaN       1802           50.0         117   \n",
       "214         2021-12-16 12:00:00     NaN       1952         1555.0         139   \n",
       "256         2021-12-16 12:00:00     NaN       1968         1555.0         142   \n",
       "766  2022-10-27 13:48:46.212584     NaN        778          778.0         124   \n",
       "791  2022-10-26 17:39:16.478281     NaN        947          947.0         125   \n",
       "\n",
       "     updated_by_id translated_title           ref_number  \\\n",
       "10            50.0              NaN  GLF-2018-2019-TAB07   \n",
       "214         1555.0              NaN            2018SAL07   \n",
       "256         1500.0              NaN            2018SAR12   \n",
       "766          778.0              NaN                  NaN   \n",
       "791          947.0              NaN                  NaN   \n",
       "\n",
       "     advice_fiscal_year_id  fiscal_year_id  office_id  \n",
       "10                    2021            2022          1  \n",
       "214                   2023            2022          5  \n",
       "256                   2022            2022          5  \n",
       "766                   2024            2023          2  \n",
       "791                   2026            2023          2  "
      ]
     },
     "execution_count": 11,
     "metadata": {},
     "output_type": "execute_result"
    }
   ],
   "source": [
    "# other messed up things that aren't FY related\n",
    "\n",
    "display(\n",
    "    r1_after.drop([\n",
    "        'updated_at', 'fiscal_year_id'\n",
    "    ], axis=1).compare(r1_after_save.drop([\n",
    "        'updated_at', 'fiscal_year_id'\n",
    "    ], axis=1))    \n",
    ")\n",
    "\n",
    "request_problems = r1_after.drop([\n",
    "    'updated_at', 'fiscal_year_id'\n",
    "], axis=1).compare(r1_after_save.drop([\n",
    "    'updated_at', 'fiscal_year_id'\n",
    "], axis=1)).index\n",
    "\n",
    "r1_after.loc[request_problems]"
   ]
  },
  {
   "cell_type": "markdown",
   "metadata": {},
   "source": [
    "### Attempt 2: dmapps_test2\n",
    "* worked almost perfectly\n",
    "* 5 statuses changed after saving"
   ]
  },
  {
   "cell_type": "code",
   "execution_count": 12,
   "metadata": {},
   "outputs": [],
   "source": [
    "requests2 = 'dmapps_test2_csas2_csasrequest.csv'\n",
    "tor2 = 'dmapps_test2_csas2_termsofreference.csv'\n",
    "\n",
    "r2_before = pd.read_csv('before/'+requests2)\n",
    "r2_after = pd.read_csv('after/'+requests2)\n",
    "r2_after_save = pd.read_csv('after_saving/'+requests2)\n",
    "tor2_before = pd.read_csv('before/'+tor2)\n",
    "tor2_after = pd.read_csv('after/'+tor2)\n",
    "tor2_after_save = pd.read_csv('after_saving/'+tor2)"
   ]
  },
  {
   "cell_type": "markdown",
   "metadata": {},
   "source": [
    "##### tor"
   ]
  },
  {
   "cell_type": "code",
   "execution_count": 13,
   "metadata": {},
   "outputs": [
    {
     "name": "stdout",
     "output_type": "stream",
     "text": [
      "(207, 4)\n"
     ]
    },
    {
     "data": {
      "text/html": [
       "<div>\n",
       "<style scoped>\n",
       "    .dataframe tbody tr th:only-of-type {\n",
       "        vertical-align: middle;\n",
       "    }\n",
       "\n",
       "    .dataframe tbody tr th {\n",
       "        vertical-align: top;\n",
       "    }\n",
       "\n",
       "    .dataframe thead tr th {\n",
       "        text-align: left;\n",
       "    }\n",
       "</style>\n",
       "<table border=\"1\" class=\"dataframe\">\n",
       "  <thead>\n",
       "    <tr>\n",
       "      <th></th>\n",
       "      <th colspan=\"2\" halign=\"left\">updated_at</th>\n",
       "      <th colspan=\"2\" halign=\"left\">submission_date</th>\n",
       "    </tr>\n",
       "    <tr>\n",
       "      <th></th>\n",
       "      <th>self</th>\n",
       "      <th>other</th>\n",
       "      <th>self</th>\n",
       "      <th>other</th>\n",
       "    </tr>\n",
       "  </thead>\n",
       "  <tbody>\n",
       "    <tr>\n",
       "      <th>31</th>\n",
       "      <td>2023-01-27 16:13:03.828064</td>\n",
       "      <td>2024-01-12 14:16:04.532632</td>\n",
       "      <td></td>\n",
       "      <td>2022-04-01 12:00:00</td>\n",
       "    </tr>\n",
       "    <tr>\n",
       "      <th>51</th>\n",
       "      <td>2023-01-27 15:54:22.721896</td>\n",
       "      <td>2024-01-12 14:16:04.539554</td>\n",
       "      <td></td>\n",
       "      <td>2022-04-01 12:00:00</td>\n",
       "    </tr>\n",
       "    <tr>\n",
       "      <th>64</th>\n",
       "      <td>2023-01-27 16:15:46.300804</td>\n",
       "      <td>2024-01-12 14:16:04.547355</td>\n",
       "      <td></td>\n",
       "      <td>2023-04-01 12:00:00</td>\n",
       "    </tr>\n",
       "    <tr>\n",
       "      <th>80</th>\n",
       "      <td>2023-01-27 16:23:19.365783</td>\n",
       "      <td>2024-01-12 14:16:04.554935</td>\n",
       "      <td></td>\n",
       "      <td>2023-04-01 12:00:00</td>\n",
       "    </tr>\n",
       "    <tr>\n",
       "      <th>83</th>\n",
       "      <td>2023-01-27 16:07:14.774777</td>\n",
       "      <td>2024-01-12 14:16:04.561838</td>\n",
       "      <td></td>\n",
       "      <td>2023-04-01 12:00:00</td>\n",
       "    </tr>\n",
       "  </tbody>\n",
       "</table>\n",
       "</div>"
      ],
      "text/plain": [
       "                    updated_at                             submission_date  \\\n",
       "                          self                       other            self   \n",
       "31  2023-01-27 16:13:03.828064  2024-01-12 14:16:04.532632                   \n",
       "51  2023-01-27 15:54:22.721896  2024-01-12 14:16:04.539554                   \n",
       "64  2023-01-27 16:15:46.300804  2024-01-12 14:16:04.547355                   \n",
       "80  2023-01-27 16:23:19.365783  2024-01-12 14:16:04.554935                   \n",
       "83  2023-01-27 16:07:14.774777  2024-01-12 14:16:04.561838                   \n",
       "\n",
       "                         \n",
       "                  other  \n",
       "31  2022-04-01 12:00:00  \n",
       "51  2022-04-01 12:00:00  \n",
       "64  2023-04-01 12:00:00  \n",
       "80  2023-04-01 12:00:00  \n",
       "83  2023-04-01 12:00:00  "
      ]
     },
     "execution_count": 13,
     "metadata": {},
     "output_type": "execute_result"
    }
   ],
   "source": [
    "print(tor2_before.compare(tor2_after).shape)\n",
    "tor2_before.compare(tor2_after).fillna('').head()"
   ]
  },
  {
   "cell_type": "code",
   "execution_count": 14,
   "metadata": {},
   "outputs": [
    {
     "name": "stdout",
     "output_type": "stream",
     "text": [
      "(527, 2)\n"
     ]
    },
    {
     "data": {
      "text/html": [
       "<div>\n",
       "<style scoped>\n",
       "    .dataframe tbody tr th:only-of-type {\n",
       "        vertical-align: middle;\n",
       "    }\n",
       "\n",
       "    .dataframe tbody tr th {\n",
       "        vertical-align: top;\n",
       "    }\n",
       "\n",
       "    .dataframe thead tr th {\n",
       "        text-align: left;\n",
       "    }\n",
       "</style>\n",
       "<table border=\"1\" class=\"dataframe\">\n",
       "  <thead>\n",
       "    <tr>\n",
       "      <th></th>\n",
       "      <th colspan=\"2\" halign=\"left\">updated_at</th>\n",
       "    </tr>\n",
       "    <tr>\n",
       "      <th></th>\n",
       "      <th>self</th>\n",
       "      <th>other</th>\n",
       "    </tr>\n",
       "  </thead>\n",
       "  <tbody>\n",
       "    <tr>\n",
       "      <th>0</th>\n",
       "      <td>2021-12-16 20:24:42.921503</td>\n",
       "      <td>2024-01-12 14:20:15.078247</td>\n",
       "    </tr>\n",
       "    <tr>\n",
       "      <th>1</th>\n",
       "      <td>2021-12-16 20:24:40.716634</td>\n",
       "      <td>2024-01-12 14:20:15.153871</td>\n",
       "    </tr>\n",
       "    <tr>\n",
       "      <th>2</th>\n",
       "      <td>2021-12-16 20:24:41.093677</td>\n",
       "      <td>2024-01-12 14:20:15.209887</td>\n",
       "    </tr>\n",
       "    <tr>\n",
       "      <th>3</th>\n",
       "      <td>2021-12-16 20:24:42.538060</td>\n",
       "      <td>2024-01-12 14:20:15.412313</td>\n",
       "    </tr>\n",
       "    <tr>\n",
       "      <th>4</th>\n",
       "      <td>2021-12-16 20:24:41.847219</td>\n",
       "      <td>2024-01-12 14:20:15.464743</td>\n",
       "    </tr>\n",
       "  </tbody>\n",
       "</table>\n",
       "</div>"
      ],
      "text/plain": [
       "                   updated_at                            \n",
       "                         self                       other\n",
       "0  2021-12-16 20:24:42.921503  2024-01-12 14:20:15.078247\n",
       "1  2021-12-16 20:24:40.716634  2024-01-12 14:20:15.153871\n",
       "2  2021-12-16 20:24:41.093677  2024-01-12 14:20:15.209887\n",
       "3  2021-12-16 20:24:42.538060  2024-01-12 14:20:15.412313\n",
       "4  2021-12-16 20:24:41.847219  2024-01-12 14:20:15.464743"
      ]
     },
     "execution_count": 14,
     "metadata": {},
     "output_type": "execute_result"
    }
   ],
   "source": [
    "print(tor2_after.compare(tor2_after_save).shape)\n",
    "tor2_after.compare(tor2_after_save).fillna('').head()"
   ]
  },
  {
   "cell_type": "markdown",
   "metadata": {},
   "source": [
    "##### requests"
   ]
  },
  {
   "cell_type": "code",
   "execution_count": 15,
   "metadata": {},
   "outputs": [
    {
     "name": "stdout",
     "output_type": "stream",
     "text": [
      "(187, 4)\n"
     ]
    },
    {
     "data": {
      "text/html": [
       "<div>\n",
       "<style scoped>\n",
       "    .dataframe tbody tr th:only-of-type {\n",
       "        vertical-align: middle;\n",
       "    }\n",
       "\n",
       "    .dataframe tbody tr th {\n",
       "        vertical-align: top;\n",
       "    }\n",
       "\n",
       "    .dataframe thead tr th {\n",
       "        text-align: left;\n",
       "    }\n",
       "</style>\n",
       "<table border=\"1\" class=\"dataframe\">\n",
       "  <thead>\n",
       "    <tr>\n",
       "      <th></th>\n",
       "      <th colspan=\"2\" halign=\"left\">updated_at</th>\n",
       "      <th colspan=\"2\" halign=\"left\">submission_date</th>\n",
       "    </tr>\n",
       "    <tr>\n",
       "      <th></th>\n",
       "      <th>self</th>\n",
       "      <th>other</th>\n",
       "      <th>self</th>\n",
       "      <th>other</th>\n",
       "    </tr>\n",
       "  </thead>\n",
       "  <tbody>\n",
       "    <tr>\n",
       "      <th>68</th>\n",
       "      <td>2022-08-25 22:30:01.944633</td>\n",
       "      <td>2024-01-12 14:16:04.239687</td>\n",
       "      <td></td>\n",
       "      <td>2021-04-01 12:00:00</td>\n",
       "    </tr>\n",
       "    <tr>\n",
       "      <th>69</th>\n",
       "      <td>2022-08-25 22:30:03.580007</td>\n",
       "      <td>2024-01-12 14:16:04.247726</td>\n",
       "      <td></td>\n",
       "      <td>2021-04-01 12:00:00</td>\n",
       "    </tr>\n",
       "    <tr>\n",
       "      <th>74</th>\n",
       "      <td>2022-08-25 22:30:02.953676</td>\n",
       "      <td>2024-01-12 14:16:04.242278</td>\n",
       "      <td></td>\n",
       "      <td>2021-04-01 12:00:00</td>\n",
       "    </tr>\n",
       "    <tr>\n",
       "      <th>75</th>\n",
       "      <td>2022-08-25 22:30:03.379908</td>\n",
       "      <td>2024-01-12 14:16:04.245137</td>\n",
       "      <td></td>\n",
       "      <td>2021-04-01 12:00:00</td>\n",
       "    </tr>\n",
       "    <tr>\n",
       "      <th>104</th>\n",
       "      <td>2023-03-14 17:45:46.225119</td>\n",
       "      <td>2024-01-12 14:16:04.250635</td>\n",
       "      <td></td>\n",
       "      <td>2021-04-01 12:00:00</td>\n",
       "    </tr>\n",
       "  </tbody>\n",
       "</table>\n",
       "</div>"
      ],
      "text/plain": [
       "                     updated_at                             submission_date  \\\n",
       "                           self                       other            self   \n",
       "68   2022-08-25 22:30:01.944633  2024-01-12 14:16:04.239687                   \n",
       "69   2022-08-25 22:30:03.580007  2024-01-12 14:16:04.247726                   \n",
       "74   2022-08-25 22:30:02.953676  2024-01-12 14:16:04.242278                   \n",
       "75   2022-08-25 22:30:03.379908  2024-01-12 14:16:04.245137                   \n",
       "104  2023-03-14 17:45:46.225119  2024-01-12 14:16:04.250635                   \n",
       "\n",
       "                          \n",
       "                   other  \n",
       "68   2021-04-01 12:00:00  \n",
       "69   2021-04-01 12:00:00  \n",
       "74   2021-04-01 12:00:00  \n",
       "75   2021-04-01 12:00:00  \n",
       "104  2021-04-01 12:00:00  "
      ]
     },
     "execution_count": 15,
     "metadata": {},
     "output_type": "execute_result"
    }
   ],
   "source": [
    "print(r2_before.compare(r2_after).shape)\n",
    "r2_before.compare(r2_after).fillna('').head()"
   ]
  },
  {
   "cell_type": "code",
   "execution_count": 16,
   "metadata": {},
   "outputs": [
    {
     "name": "stdout",
     "output_type": "stream",
     "text": [
      "(5, 2)\n"
     ]
    },
    {
     "data": {
      "text/html": [
       "<div>\n",
       "<style scoped>\n",
       "    .dataframe tbody tr th:only-of-type {\n",
       "        vertical-align: middle;\n",
       "    }\n",
       "\n",
       "    .dataframe tbody tr th {\n",
       "        vertical-align: top;\n",
       "    }\n",
       "\n",
       "    .dataframe thead tr th {\n",
       "        text-align: left;\n",
       "    }\n",
       "</style>\n",
       "<table border=\"1\" class=\"dataframe\">\n",
       "  <thead>\n",
       "    <tr>\n",
       "      <th></th>\n",
       "      <th colspan=\"2\" halign=\"left\">status</th>\n",
       "    </tr>\n",
       "    <tr>\n",
       "      <th></th>\n",
       "      <th>self</th>\n",
       "      <th>other</th>\n",
       "    </tr>\n",
       "  </thead>\n",
       "  <tbody>\n",
       "    <tr>\n",
       "      <th>10</th>\n",
       "      <td>70.0</td>\n",
       "      <td>41.0</td>\n",
       "    </tr>\n",
       "    <tr>\n",
       "      <th>214</th>\n",
       "      <td>70.0</td>\n",
       "      <td>41.0</td>\n",
       "    </tr>\n",
       "    <tr>\n",
       "      <th>256</th>\n",
       "      <td>70.0</td>\n",
       "      <td>41.0</td>\n",
       "    </tr>\n",
       "    <tr>\n",
       "      <th>766</th>\n",
       "      <td>41.0</td>\n",
       "      <td>70.0</td>\n",
       "    </tr>\n",
       "    <tr>\n",
       "      <th>791</th>\n",
       "      <td>20.0</td>\n",
       "      <td>30.0</td>\n",
       "    </tr>\n",
       "  </tbody>\n",
       "</table>\n",
       "</div>"
      ],
      "text/plain": [
       "    status      \n",
       "      self other\n",
       "10    70.0  41.0\n",
       "214   70.0  41.0\n",
       "256   70.0  41.0\n",
       "766   41.0  70.0\n",
       "791   20.0  30.0"
      ]
     },
     "execution_count": 16,
     "metadata": {},
     "output_type": "execute_result"
    }
   ],
   "source": [
    "print(r2_after.drop('updated_at', axis=1).compare(r2_after_save.drop('updated_at', axis=1)).shape)\n",
    "r2_after.drop('updated_at', axis=1).compare(r2_after_save.drop('updated_at', axis=1)).fillna('')"
   ]
  },
  {
   "cell_type": "markdown",
   "metadata": {},
   "source": [
    "### Why do these statuses change?"
   ]
  },
  {
   "cell_type": "code",
   "execution_count": 17,
   "metadata": {},
   "outputs": [
    {
     "data": {
      "text/html": [
       "<div>\n",
       "<style scoped>\n",
       "    .dataframe tbody tr th:only-of-type {\n",
       "        vertical-align: middle;\n",
       "    }\n",
       "\n",
       "    .dataframe tbody tr th {\n",
       "        vertical-align: top;\n",
       "    }\n",
       "\n",
       "    .dataframe thead th {\n",
       "        text-align: right;\n",
       "    }\n",
       "</style>\n",
       "<table border=\"1\" class=\"dataframe\">\n",
       "  <thead>\n",
       "    <tr style=\"text-align: right;\">\n",
       "      <th></th>\n",
       "      <th>id</th>\n",
       "      <th>status_before</th>\n",
       "      <th>status_after</th>\n",
       "    </tr>\n",
       "  </thead>\n",
       "  <tbody>\n",
       "    <tr>\n",
       "      <th>0</th>\n",
       "      <td>12</td>\n",
       "      <td>70</td>\n",
       "      <td>41</td>\n",
       "    </tr>\n",
       "    <tr>\n",
       "      <th>1</th>\n",
       "      <td>252</td>\n",
       "      <td>70</td>\n",
       "      <td>41</td>\n",
       "    </tr>\n",
       "    <tr>\n",
       "      <th>2</th>\n",
       "      <td>295</td>\n",
       "      <td>70</td>\n",
       "      <td>41</td>\n",
       "    </tr>\n",
       "    <tr>\n",
       "      <th>3</th>\n",
       "      <td>904</td>\n",
       "      <td>41</td>\n",
       "      <td>70</td>\n",
       "    </tr>\n",
       "    <tr>\n",
       "      <th>4</th>\n",
       "      <td>930</td>\n",
       "      <td>20</td>\n",
       "      <td>30</td>\n",
       "    </tr>\n",
       "  </tbody>\n",
       "</table>\n",
       "</div>"
      ],
      "text/plain": [
       "    id  status_before  status_after\n",
       "0   12             70            41\n",
       "1  252             70            41\n",
       "2  295             70            41\n",
       "3  904             41            70\n",
       "4  930             20            30"
      ]
     },
     "execution_count": 17,
     "metadata": {},
     "output_type": "execute_result"
    }
   ],
   "source": [
    "pd.merge(\n",
    "    r2_before.loc[request_problems, ['id', 'status']], \n",
    "    r2_after_save.loc[request_problems, ['id', 'status']],\n",
    "    on='id',\n",
    "    suffixes=('_before', '_after')\n",
    ")"
   ]
  },
  {
   "cell_type": "markdown",
   "metadata": {},
   "source": [
    "* 12, 252, and 295 must not have a process\n",
    "  * CONFIRMED CORRECT (SQL below)\n",
    "* 904 must have a process\n",
    "  * CONFIRMED CORRECT (SQL below)\n",
    "* 930 must have had a completed review?\n",
    "  * CONFIRMED ALL REVIEWS ARE COMPLETE (via app, saving updated the status, even in prodonprem branch with no changes to def save method)\n",
    "\n",
    "```SQL\n",
    "SELECT csas2_process.id AS p_id, csas2_csasrequest.id AS r_id FROM csas2_csasrequest\n",
    "LEFT JOIN csas2_process_csas_requests ON csas2_process_csas_requests.csasrequest_id = csas2_csasrequest.id  \n",
    "LEFT JOIN csas2_process ON csas2_process_csas_requests.process_id = csas2_process.id \n",
    "WHERE csas2_csasrequest.id IN (12, 252, 295, 904, 930)\n",
    "```"
   ]
  },
  {
   "cell_type": "code",
   "execution_count": 18,
   "metadata": {},
   "outputs": [
    {
     "data": {
      "text/plain": [
       "10     2021-04-28 10:42:19.913898\n",
       "214           2021-12-16 12:00:00\n",
       "256           2021-12-16 12:00:00\n",
       "766    2022-10-27 13:48:46.212584\n",
       "791    2022-10-26 17:39:16.478281\n",
       "Name: submission_date, dtype: object"
      ]
     },
     "execution_count": 18,
     "metadata": {},
     "output_type": "execute_result"
    }
   ],
   "source": [
    "# all of the problem status requests have submission dates\n",
    "\n",
    "r1_before.loc[request_problems, 'submission_date']"
   ]
  },
  {
   "cell_type": "markdown",
   "metadata": {},
   "source": [
    "### Attempt 3: Confirm That Everything Works (using dmapps_test3)\n",
    "* didn't do after case, just before and after_save"
   ]
  },
  {
   "cell_type": "code",
   "execution_count": 19,
   "metadata": {},
   "outputs": [],
   "source": [
    "requests3 = 'dmapps_test3_csas2_csasrequest.csv'\n",
    "tor3 = 'dmapps_test3_csas2_termsofreference.csv'\n",
    "\n",
    "r3_before = pd.read_csv('before/'+requests3)\n",
    "r3_after_save = pd.read_csv('after_saving/'+requests3)\n",
    "tor3_before = pd.read_csv('before/'+tor3)\n",
    "tor3_after_save = pd.read_csv('after_saving/'+tor3)"
   ]
  },
  {
   "cell_type": "markdown",
   "metadata": {},
   "source": [
    "##### tor"
   ]
  },
  {
   "cell_type": "code",
   "execution_count": 20,
   "metadata": {},
   "outputs": [
    {
     "name": "stdout",
     "output_type": "stream",
     "text": [
      "(207, 2)\n"
     ]
    },
    {
     "data": {
      "text/plain": [
       "(submission_date, self)  (submission_date, other)\n",
       "                         2020-04-01 12:00:00         32\n",
       "                         2021-04-01 12:00:00         32\n",
       "                         2022-04-01 12:00:00         28\n",
       "                         2019-04-01 12:00:00         23\n",
       "                         2017-04-01 12:00:00         16\n",
       "                         2018-04-01 12:00:00         16\n",
       "                         2023-04-01 12:00:00         14\n",
       "                         2015-04-01 12:00:00         12\n",
       "                         2016-04-01 12:00:00         12\n",
       "                         2012-04-01 12:00:00          6\n",
       "                         2013-04-01 12:00:00          6\n",
       "                         2014-04-01 12:00:00          6\n",
       "                         2011-04-01 12:00:00          3\n",
       "                         2010-04-01 12:00:00          1\n",
       "dtype: int64"
      ]
     },
     "execution_count": 20,
     "metadata": {},
     "output_type": "execute_result"
    }
   ],
   "source": [
    "print(tor3_before.drop('updated_at', axis=1).compare(tor3_after_save.drop('updated_at', axis=1)).shape)\n",
    "tor3_before.drop('updated_at', axis=1).compare(tor3_after_save.drop('updated_at', axis=1)).fillna('').value_counts()"
   ]
  },
  {
   "cell_type": "markdown",
   "metadata": {},
   "source": [
    "##### requests"
   ]
  },
  {
   "cell_type": "code",
   "execution_count": 21,
   "metadata": {},
   "outputs": [
    {
     "name": "stdout",
     "output_type": "stream",
     "text": [
      "(192, 4)\n"
     ]
    },
    {
     "data": {
      "text/plain": [
       "(status, self)  (status, other)  (submission_date, self)  (submission_date, other)\n",
       "                                                          2019-04-01 12:00:00         32\n",
       "                                                          2020-04-01 12:00:00         32\n",
       "                                                          2018-04-01 12:00:00         23\n",
       "                                                          2021-04-01 12:00:00         22\n",
       "                                                          2016-04-01 12:00:00         16\n",
       "                                                          2017-04-01 12:00:00         16\n",
       "                                                          2014-04-01 12:00:00         12\n",
       "                                                          2015-04-01 12:00:00         12\n",
       "                                                          2011-04-01 12:00:00          6\n",
       "                                                          2012-04-01 12:00:00          6\n",
       "                                                          2013-04-01 12:00:00          6\n",
       "70.0            41.0                                                                   3\n",
       "                                                          2010-04-01 12:00:00          3\n",
       "20.0            30.0                                                                   1\n",
       "41.0            70.0                                                                   1\n",
       "                                                          2009-04-01 12:00:00          1\n",
       "dtype: int64"
      ]
     },
     "execution_count": 21,
     "metadata": {},
     "output_type": "execute_result"
    }
   ],
   "source": [
    "print(r3_before.drop('updated_at', axis=1).compare(r3_after_save.drop('updated_at', axis=1)).shape)\n",
    "r3_before.drop('updated_at', axis=1).compare(r3_after_save.drop('updated_at', axis=1)).fillna('').value_counts()"
   ]
  },
  {
   "cell_type": "markdown",
   "metadata": {},
   "source": [
    "### Attempt 4: Final Confirmation (dmapps_test4)"
   ]
  },
  {
   "cell_type": "code",
   "execution_count": 22,
   "metadata": {},
   "outputs": [],
   "source": [
    "requests4 = 'dmapps_test4_csas2_csasrequest.csv'\n",
    "tor4 = 'dmapps_test4_csas2_termsofreference.csv'\n",
    "\n",
    "r4_before = pd.read_csv('before/'+requests4)\n",
    "r4_after = pd.read_csv('after/'+requests4)\n",
    "r4_after_save = pd.read_csv('after_saving/'+requests4)\n",
    "tor4_before = pd.read_csv('before/'+tor4)\n",
    "tor4_after = pd.read_csv('after/'+tor4)\n",
    "tor4_after_save = pd.read_csv('after_saving/'+tor4)"
   ]
  },
  {
   "cell_type": "markdown",
   "metadata": {},
   "source": [
    "##### tors"
   ]
  },
  {
   "cell_type": "code",
   "execution_count": 23,
   "metadata": {},
   "outputs": [
    {
     "name": "stdout",
     "output_type": "stream",
     "text": [
      "(207, 2)\n"
     ]
    },
    {
     "data": {
      "text/plain": [
       "(submission_date, self)  (submission_date, other)\n",
       "                         2020-04-01 12:00:00         32\n",
       "                         2021-04-01 12:00:00         32\n",
       "                         2022-04-01 12:00:00         28\n",
       "                         2019-04-01 12:00:00         23\n",
       "                         2017-04-01 12:00:00         16\n",
       "                         2018-04-01 12:00:00         16\n",
       "                         2023-04-01 12:00:00         14\n",
       "                         2015-04-01 12:00:00         12\n",
       "                         2016-04-01 12:00:00         12\n",
       "                         2012-04-01 12:00:00          6\n",
       "                         2013-04-01 12:00:00          6\n",
       "                         2014-04-01 12:00:00          6\n",
       "                         2011-04-01 12:00:00          3\n",
       "                         2010-04-01 12:00:00          1\n",
       "dtype: int64"
      ]
     },
     "execution_count": 23,
     "metadata": {},
     "output_type": "execute_result"
    }
   ],
   "source": [
    "print(tor4_before.drop('updated_at', axis=1).compare(tor4_after.drop('updated_at', axis=1)).shape)\n",
    "tor4_before.drop('updated_at', axis=1).compare(tor4_after.drop('updated_at', axis=1)).fillna('').value_counts()"
   ]
  },
  {
   "cell_type": "code",
   "execution_count": 24,
   "metadata": {},
   "outputs": [
    {
     "name": "stdout",
     "output_type": "stream",
     "text": [
      "(207, 2)\n"
     ]
    },
    {
     "data": {
      "text/plain": [
       "(submission_date, self)  (submission_date, other)\n",
       "                         2020-04-01 12:00:00         32\n",
       "                         2021-04-01 12:00:00         32\n",
       "                         2022-04-01 12:00:00         28\n",
       "                         2019-04-01 12:00:00         23\n",
       "                         2017-04-01 12:00:00         16\n",
       "                         2018-04-01 12:00:00         16\n",
       "                         2023-04-01 12:00:00         14\n",
       "                         2015-04-01 12:00:00         12\n",
       "                         2016-04-01 12:00:00         12\n",
       "                         2012-04-01 12:00:00          6\n",
       "                         2013-04-01 12:00:00          6\n",
       "                         2014-04-01 12:00:00          6\n",
       "                         2011-04-01 12:00:00          3\n",
       "                         2010-04-01 12:00:00          1\n",
       "dtype: int64"
      ]
     },
     "execution_count": 24,
     "metadata": {},
     "output_type": "execute_result"
    }
   ],
   "source": [
    "print(tor4_before.drop('updated_at', axis=1).compare(tor4_after_save.drop('updated_at', axis=1)).shape)\n",
    "tor4_before.drop('updated_at', axis=1).compare(tor4_after_save.drop('updated_at', axis=1)).fillna('').value_counts()"
   ]
  },
  {
   "cell_type": "markdown",
   "metadata": {},
   "source": [
    "##### requests"
   ]
  },
  {
   "cell_type": "code",
   "execution_count": 25,
   "metadata": {},
   "outputs": [
    {
     "name": "stdout",
     "output_type": "stream",
     "text": [
      "(187, 2)\n"
     ]
    },
    {
     "data": {
      "text/plain": [
       "(submission_date, self)  (submission_date, other)\n",
       "                         2019-04-01 12:00:00         32\n",
       "                         2020-04-01 12:00:00         32\n",
       "                         2018-04-01 12:00:00         23\n",
       "                         2021-04-01 12:00:00         22\n",
       "                         2016-04-01 12:00:00         16\n",
       "                         2017-04-01 12:00:00         16\n",
       "                         2014-04-01 12:00:00         12\n",
       "                         2015-04-01 12:00:00         12\n",
       "                         2011-04-01 12:00:00          6\n",
       "                         2012-04-01 12:00:00          6\n",
       "                         2013-04-01 12:00:00          6\n",
       "                         2010-04-01 12:00:00          3\n",
       "                         2009-04-01 12:00:00          1\n",
       "dtype: int64"
      ]
     },
     "execution_count": 25,
     "metadata": {},
     "output_type": "execute_result"
    }
   ],
   "source": [
    "print(r4_before.drop('updated_at', axis=1).compare(r4_after.drop('updated_at', axis=1)).shape)\n",
    "r4_before.drop('updated_at', axis=1).compare(r4_after.drop('updated_at', axis=1)).fillna('').value_counts()"
   ]
  },
  {
   "cell_type": "code",
   "execution_count": 26,
   "metadata": {},
   "outputs": [
    {
     "name": "stdout",
     "output_type": "stream",
     "text": [
      "(5, 2)\n"
     ]
    },
    {
     "data": {
      "text/plain": [
       "(status, self)  (status, other)\n",
       "70.0            41.0               3\n",
       "20.0            30.0               1\n",
       "41.0            70.0               1\n",
       "dtype: int64"
      ]
     },
     "execution_count": 26,
     "metadata": {},
     "output_type": "execute_result"
    }
   ],
   "source": [
    "# same problem statuses\n",
    "print(r4_after.drop('updated_at', axis=1).compare(r4_after_save.drop('updated_at', axis=1)).shape)\n",
    "r4_after.drop('updated_at', axis=1).compare(r4_after_save.drop('updated_at', axis=1)).fillna('').value_counts()"
   ]
  },
  {
   "cell_type": "code",
   "execution_count": null,
   "metadata": {},
   "outputs": [],
   "source": []
  }
 ],
 "metadata": {
  "kernelspec": {
   "display_name": "base",
   "language": "python",
   "name": "python3"
  },
  "language_info": {
   "codemirror_mode": {
    "name": "ipython",
    "version": 3
   },
   "file_extension": ".py",
   "mimetype": "text/x-python",
   "name": "python",
   "nbconvert_exporter": "python",
   "pygments_lexer": "ipython3",
   "version": "3.10.9"
  }
 },
 "nbformat": 4,
 "nbformat_minor": 2
}
